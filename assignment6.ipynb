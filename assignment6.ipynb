{
 "cells": [
  {
   "cell_type": "code",
   "execution_count": 17,
   "id": "eca604e3",
   "metadata": {},
   "outputs": [],
   "source": [
    "import pandas as pd\n",
    "import matplotlib.pyplot as plt\n",
    "from imblearn.under_sampling import ClusterCentroids\n",
    "import numpy as np"
   ]
  },
  {
   "cell_type": "markdown",
   "id": "89e1ee6e",
   "metadata": {},
   "source": [
    "# Part 2: Data Preparation "
   ]
  },
  {
   "cell_type": "code",
   "execution_count": 18,
   "id": "4cc51d10",
   "metadata": {},
   "outputs": [
    {
     "name": "stdout",
     "output_type": "stream",
     "text": [
      "             timestamp                                              title  \\\n",
      "0  2025-03-19 06:28:22  Klipsch R-120SWi 12\" High-Performance Wireless...   \n",
      "1  2025-03-19 06:28:22  Apple iPhone 14 Pro Max 128GB Network Unlocked...   \n",
      "2  2025-03-19 06:28:22  Apple iPhone 14 Pro Max 256GB Unlocked Very Go...   \n",
      "3  2025-03-19 06:28:22  Apple iPhone 14 Pro A2650 128GB Network Unlock...   \n",
      "4  2025-03-19 06:28:22  Apple iPhone 14 128GB Network Unlocked Very Go...   \n",
      "\n",
      "    price  original_price  shipping  \\\n",
      "0  159.99          179.99         0   \n",
      "1  499.99         1099.00         0   \n",
      "2  549.99         1199.00         0   \n",
      "3  414.99          899.00         0   \n",
      "4  305.99          749.00         0   \n",
      "\n",
      "                                                 url  discount_percentage  \n",
      "0  https://www.ebay.com/itm/365374754988?_trkparm...                11.11  \n",
      "1  https://www.ebay.com/itm/365374754988?_trkparm...                54.51  \n",
      "2  https://www.ebay.com/itm/365374754988?_trkparm...                54.13  \n",
      "3  https://www.ebay.com/itm/365374754988?_trkparm...                53.84  \n",
      "4  https://www.ebay.com/itm/365374754988?_trkparm...                59.15  \n"
     ]
    }
   ],
   "source": [
    "df = pd.read_csv(\"cleaned_ebay_deals.csv\")\n",
    "\n",
    "df['price'] = df['price'].dropna()\n",
    "df['original_price'] = df['original_price'].dropna()\n",
    "df['shipping'] = df['shipping'].dropna()\n",
    "df['discount_percentage'] = df['discount_percentage'].dropna()\n",
    "df['shipping'] = df['shipping'].replace({\n",
    "    \"Free shipping\": 0,\n",
    "    \"Shipping info unavailable\": 0\n",
    "})\n",
    "print(df.head())"
   ]
  },
  {
   "cell_type": "code",
   "execution_count": 19,
   "id": "ede32cfc",
   "metadata": {},
   "outputs": [
    {
     "data": {
      "image/png": "[encoded data removed]",
      "text/plain": [
       "<Figure size 640x480 with 1 Axes>"
      ]
     },
     "metadata": {},
     "output_type": "display_data"
    }
   ],
   "source": [
    "counts, bins = np.histogram(df['discount_percentage'])\n",
    "plt.stairs(counts, bins)\n",
    "plt.hist(bins[:-1], bins, weights=counts)\n",
    "plt.show()"
   ]
  },
  {
   "cell_type": "markdown",
   "id": "c2c3e63e",
   "metadata": {},
   "source": [
    "# Part 3: Binning and Balancing the Dataset "
   ]
  },
  {
   "cell_type": "code",
   "execution_count": 20,
   "id": "9cb20763",
   "metadata": {},
   "outputs": [
    {
     "name": "stdout",
     "output_type": "stream",
     "text": [
      "             timestamp                                              title  \\\n",
      "0  2025-03-19 06:28:22  Klipsch R-120SWi 12\" High-Performance Wireless...   \n",
      "1  2025-03-19 06:28:22  Apple iPhone 14 Pro Max 128GB Network Unlocked...   \n",
      "2  2025-03-19 06:28:22  Apple iPhone 14 Pro Max 256GB Unlocked Very Go...   \n",
      "3  2025-03-19 06:28:22  Apple iPhone 14 Pro A2650 128GB Network Unlock...   \n",
      "4  2025-03-19 06:28:22  Apple iPhone 14 128GB Network Unlocked Very Go...   \n",
      "\n",
      "    price  original_price  shipping  \\\n",
      "0  159.99          179.99         0   \n",
      "1  499.99         1099.00         0   \n",
      "2  549.99         1199.00         0   \n",
      "3  414.99          899.00         0   \n",
      "4  305.99          749.00         0   \n",
      "\n",
      "                                                 url  discount_percentage  \\\n",
      "0  https://www.ebay.com/itm/365374754988?_trkparm...                11.11   \n",
      "1  https://www.ebay.com/itm/365374754988?_trkparm...                54.51   \n",
      "2  https://www.ebay.com/itm/365374754988?_trkparm...                54.13   \n",
      "3  https://www.ebay.com/itm/365374754988?_trkparm...                53.84   \n",
      "4  https://www.ebay.com/itm/365374754988?_trkparm...                59.15   \n",
      "\n",
      "  discount_bin  \n",
      "0       Medium  \n",
      "1         High  \n",
      "2         High  \n",
      "3         High  \n",
      "4         High  \n"
     ]
    }
   ],
   "source": [
    "def bin_discount(discount):\n",
    "    if(discount<=10):\n",
    "        return \"Low\"\n",
    "    elif ((discount>10) & (discount<=30)):\n",
    "        return \"Medium\"\n",
    "    else:\n",
    "        return \"High\"\n",
    "\n",
    "df['discount_bin'] = df['discount_percentage'].apply(bin_discount)\n",
    "\n",
    "print(df.head())"
   ]
  },
  {
   "cell_type": "code",
   "execution_count": 21,
   "id": "f3271ae8",
   "metadata": {},
   "outputs": [
    {
     "name": "stdout",
     "output_type": "stream",
     "text": [
      "\n",
      "Initial Discount Bin Counts:\n",
      " discount_bin\n",
      "High      3226\n",
      "Medium     488\n",
      "Low        261\n",
      "Name: count, dtype: int64\n",
      "\n",
      "Resampled DataFrame Head:\n",
      "          price  original_price  shipping  discount_percentage discount_bin\n",
      "0   748.974107     1199.797321         0            37.574464         High\n",
      "1  1359.000000     3099.000000         0            56.150000         High\n",
      "2   275.990000      499.990000         0            44.800000         High\n",
      "3   809.375000     1999.928125         0            59.530000         High\n",
      "4  2529.000000     4599.000000         0            45.010000         High\n",
      "\n",
      "Resampled Discount Bin Counts:\n",
      " discount_bin\n",
      "High      261\n",
      "Low       261\n",
      "Medium    261\n",
      "Name: count, dtype: int64\n"
     ]
    },
    {
     "name": "stderr",
     "output_type": "stream",
     "text": [
      "c:\\Users\\danad\\AppData\\Local\\Programs\\Python\\Python311\\Lib\\site-packages\\sklearn\\base.py:1473: ConvergenceWarning: Number of distinct clusters (80) found smaller than n_clusters (261). Possibly due to duplicate points in X.\n",
      "  return fit_method(estimator, *args, **kwargs)\n"
     ]
    }
   ],
   "source": [
    "# Count the initial distribution of discount bins\n",
    "count_of_discount_bins = df['discount_bin'].value_counts()\n",
    "print(\"\\nInitial Discount Bin Counts:\\n\", count_of_discount_bins)\n",
    "\n",
    "# Prepare features (X) and target (y) for undersampling\n",
    "X = df[['price', 'original_price', 'shipping', 'discount_percentage']]\n",
    "y = df['discount_bin']\n",
    "\n",
    "# Initialize and apply ClusterCentroids undersampling\n",
    "cc = ClusterCentroids(random_state=42)\n",
    "X_resampled, y_resampled = cc.fit_resample(X, y)\n",
    "\n",
    "# Create a new DataFrame from the resampled data\n",
    "df = pd.DataFrame(X_resampled, columns=X.columns)\n",
    "df['discount_bin'] = y_resampled\n",
    "\n",
    "# Print the head of the resampled DataFrame and the new counts\n",
    "print(\"\\nResampled DataFrame Head:\\n\", df.head())\n",
    "print(\"\\nResampled Discount Bin Counts:\\n\", df['discount_bin'].value_counts())"
   ]
  },
  {
   "cell_type": "code",
   "execution_count": 22,
   "id": "d5d5d9fb",
   "metadata": {},
   "outputs": [
    {
     "name": "stdout",
     "output_type": "stream",
     "text": [
      "         price  original_price  shipping  discount_percentage\n",
      "0   748.974107     1199.797321         0            37.574464\n",
      "1  1359.000000     3099.000000         0            56.150000\n",
      "2   275.990000      499.990000         0            44.800000\n",
      "3   809.375000     1999.928125         0            59.530000\n",
      "4  2529.000000     4599.000000         0            45.010000\n"
     ]
    }
   ],
   "source": [
    "df = df.drop(columns=['discount_bin'])\n",
    "print(df.head())"
   ]
  },
  {
   "cell_type": "markdown",
   "id": "b6abd21f",
   "metadata": {},
   "source": [
    "# Part 4: Regression Modeling"
   ]
  },
  {
   "cell_type": "code",
   "execution_count": 23,
   "id": "f7ee214b",
   "metadata": {},
   "outputs": [
    {
     "data": {
      "text/html": [
       "<div>\n",
       "<style scoped>\n",
       "    .dataframe tbody tr th:only-of-type {\n",
       "        vertical-align: middle;\n",
       "    }\n",
       "\n",
       "    .dataframe tbody tr th {\n",
       "        vertical-align: top;\n",
       "    }\n",
       "\n",
       "    .dataframe thead th {\n",
       "        text-align: right;\n",
       "    }\n",
       "</style>\n",
       "<table border=\"1\" class=\"dataframe\">\n",
       "  <thead>\n",
       "    <tr style=\"text-align: right;\">\n",
       "      <th></th>\n",
       "      <th>MSE</th>\n",
       "      <th>MAE</th>\n",
       "      <th>RMSE</th>\n",
       "      <th>Coefficient of Determination</th>\n",
       "    </tr>\n",
       "  </thead>\n",
       "  <tbody>\n",
       "    <tr>\n",
       "      <th>0</th>\n",
       "      <td>308.50356</td>\n",
       "      <td>13.052981</td>\n",
       "      <td>17.564269</td>\n",
       "      <td>0.828977</td>\n",
       "    </tr>\n",
       "  </tbody>\n",
       "</table>\n",
       "</div>"
      ],
      "text/plain": [
       "         MSE        MAE       RMSE  Coefficient of Determination\n",
       "0  308.50356  13.052981  17.564269                      0.828977"
      ]
     },
     "execution_count": 23,
     "metadata": {},
     "output_type": "execute_result"
    }
   ],
   "source": [
    "from sklearn.model_selection import train_test_split\n",
    "from sklearn.linear_model import LinearRegression\n",
    "from sklearn.metrics import mean_squared_error, mean_absolute_error, r2_score, root_mean_squared_error\n",
    "\n",
    "X = df[['price', 'original_price', 'shipping']]\n",
    "y = df['discount_percentage']\n",
    "X_train, X_test, y_train, y_test = train_test_split(X, y, test_size=0.2, random_state=42)\n",
    "\n",
    "model = LinearRegression()\n",
    "model.fit(X_train, y_train)\n",
    "\n",
    "y_pred = model.predict(X_test)\n",
    "\n",
    "mse = mean_squared_error(y_test, y_pred)\n",
    "mae = mean_absolute_error(y_test, y_pred)\n",
    "rmse = root_mean_squared_error(y_test, y_pred)\n",
    "r2 = r2_score(y_test, y_pred)\n",
    "\n",
    "results = pd.DataFrame([{\"MSE\": mse, \"MAE\": mae, \"RMSE\": rmse, \"Coefficient of Determination\": r2}])\n",
    "results"
   ]
  },
  {
   "cell_type": "markdown",
   "id": "dbac17da",
   "metadata": {},
   "source": [
    "# Part 5: Visual Evaluation"
   ]
  },
  {
   "cell_type": "code",
   "execution_count": 24,
   "id": "29190db2",
   "metadata": {},
   "outputs": [
    {
     "data": {
      "image/png": "[encoded data removed]",
      "text/plain": [
       "<Figure size 640x480 with 1 Axes>"
      ]
     },
     "metadata": {},
     "output_type": "display_data"
    }
   ],
   "source": [
    "plt.scatter(y_test, y_pred)\n",
    "plt.xlabel(\"Actual\")\n",
    "plt.ylabel(\"Predicted\")\n",
    "plt.show()"
   ]
  },
  {
   "cell_type": "code",
   "execution_count": 25,
   "id": "01ffac38",
   "metadata": {},
   "outputs": [
    {
     "data": {
      "image/png": "[encoded data removed]",
      "text/plain": [
       "<Figure size 1000x600 with 1 Axes>"
      ]
     },
     "metadata": {},
     "output_type": "display_data"
    }
   ],
   "source": [
    "residuals = y_test - y_pred\n",
    "\n",
    "plt.figure(figsize=(10, 6))\n",
    "plt.scatter(y_pred, residuals)\n",
    "# plt.axhline(y=0, color='r', linestyle='--')  \n",
    "plt.xlabel(\"Predicted Values\")\n",
    "plt.ylabel(\"Residuals (Actual - Predicted)\")\n",
    "plt.title(\"Residual Plot\")\n",
    "plt.grid(True)\n",
    "plt.show()"
   ]
  },
  {
   "cell_type": "markdown",
   "id": "7429b3d9",
   "metadata": {},
   "source": [
    "# Part 6: Applying the Model to Incomplete Data "
   ]
  },
  {
   "cell_type": "code",
   "execution_count": 27,
   "id": "bc1bdf95",
   "metadata": {},
   "outputs": [
    {
     "name": "stdout",
     "output_type": "stream",
     "text": [
      "Index(['price', 'original_price', 'shipping'], dtype='object')\n",
      "           price  original_price  shipping\n",
      "760   147.990000      199.990000         0\n",
      "627  2519.000000     3406.990000         0\n",
      "619  2519.000000     3406.990000         0\n",
      "99    879.990000     1342.990000         0\n",
      "526 -9038.429283    -7378.220799         0\n",
      "3     809.375000     1999.928125         0\n",
      "442   236.990000      238.990000         0\n",
      "690  1499.000000     1899.000000         0\n",
      "158   799.990000     1499.000000         0\n",
      "367   649.990000      649.990000         0\n",
      "28   1898.000000     3077.200000         0\n",
      "776  1499.000000     1899.000000         0\n",
      "734  2809.000000     3149.000000         0\n",
      "21     37.490000       59.990000         0\n",
      "185   601.039388      999.038776         0\n",
      "22   1138.000000     3199.950000         0\n",
      "141   245.677273     1299.990000         0\n",
      "757  2809.000000     3149.000000         0\n",
      "345   599.990000      599.990000         0\n",
      "78    604.156667     1299.000000         0\n"
     ]
    }
   ],
   "source": [
    "\n",
    "df_copy = df.drop([\"discount_percentage\"], axis=1, errors='ignore')\n",
    "print(df_copy.columns)\n",
    "relevent_data = df_copy.sample(20)\n",
    "relevent_data = relevent_data[['price', 'original_price', 'shipping']]\n",
    "print(relevent_data)"
   ]
  },
  {
   "cell_type": "code",
   "execution_count": 28,
   "id": "dbe89cc4",
   "metadata": {},
   "outputs": [
    {
     "data": {
      "text/html": [
       "<div>\n",
       "<style scoped>\n",
       "    .dataframe tbody tr th:only-of-type {\n",
       "        vertical-align: middle;\n",
       "    }\n",
       "\n",
       "    .dataframe tbody tr th {\n",
       "        vertical-align: top;\n",
       "    }\n",
       "\n",
       "    .dataframe thead th {\n",
       "        text-align: right;\n",
       "    }\n",
       "</style>\n",
       "<table border=\"1\" class=\"dataframe\">\n",
       "  <thead>\n",
       "    <tr style=\"text-align: right;\">\n",
       "      <th></th>\n",
       "      <th>price</th>\n",
       "      <th>original_price</th>\n",
       "      <th>shipping</th>\n",
       "      <th>predicted_discount</th>\n",
       "    </tr>\n",
       "  </thead>\n",
       "  <tbody>\n",
       "    <tr>\n",
       "      <th>760</th>\n",
       "      <td>147.990000</td>\n",
       "      <td>199.990000</td>\n",
       "      <td>0</td>\n",
       "      <td>28.127492</td>\n",
       "    </tr>\n",
       "    <tr>\n",
       "      <th>627</th>\n",
       "      <td>2519.000000</td>\n",
       "      <td>3406.990000</td>\n",
       "      <td>0</td>\n",
       "      <td>25.169445</td>\n",
       "    </tr>\n",
       "    <tr>\n",
       "      <th>619</th>\n",
       "      <td>2519.000000</td>\n",
       "      <td>3406.990000</td>\n",
       "      <td>0</td>\n",
       "      <td>25.169445</td>\n",
       "    </tr>\n",
       "    <tr>\n",
       "      <th>99</th>\n",
       "      <td>879.990000</td>\n",
       "      <td>1342.990000</td>\n",
       "      <td>0</td>\n",
       "      <td>34.790752</td>\n",
       "    </tr>\n",
       "    <tr>\n",
       "      <th>526</th>\n",
       "      <td>-9038.429283</td>\n",
       "      <td>-7378.220799</td>\n",
       "      <td>0</td>\n",
       "      <td>279.769583</td>\n",
       "    </tr>\n",
       "    <tr>\n",
       "      <th>3</th>\n",
       "      <td>809.375000</td>\n",
       "      <td>1999.928125</td>\n",
       "      <td>0</td>\n",
       "      <td>72.162947</td>\n",
       "    </tr>\n",
       "    <tr>\n",
       "      <th>442</th>\n",
       "      <td>236.990000</td>\n",
       "      <td>238.990000</td>\n",
       "      <td>0</td>\n",
       "      <td>23.984045</td>\n",
       "    </tr>\n",
       "    <tr>\n",
       "      <th>690</th>\n",
       "      <td>1499.000000</td>\n",
       "      <td>1899.000000</td>\n",
       "      <td>0</td>\n",
       "      <td>20.082214</td>\n",
       "    </tr>\n",
       "    <tr>\n",
       "      <th>158</th>\n",
       "      <td>799.990000</td>\n",
       "      <td>1499.000000</td>\n",
       "      <td>0</td>\n",
       "      <td>47.982564</td>\n",
       "    </tr>\n",
       "    <tr>\n",
       "      <th>367</th>\n",
       "      <td>649.990000</td>\n",
       "      <td>649.990000</td>\n",
       "      <td>0</td>\n",
       "      <td>16.154246</td>\n",
       "    </tr>\n",
       "    <tr>\n",
       "      <th>28</th>\n",
       "      <td>1898.000000</td>\n",
       "      <td>3077.200000</td>\n",
       "      <td>0</td>\n",
       "      <td>51.223081</td>\n",
       "    </tr>\n",
       "    <tr>\n",
       "      <th>776</th>\n",
       "      <td>1499.000000</td>\n",
       "      <td>1899.000000</td>\n",
       "      <td>0</td>\n",
       "      <td>20.082214</td>\n",
       "    </tr>\n",
       "    <tr>\n",
       "      <th>734</th>\n",
       "      <td>2809.000000</td>\n",
       "      <td>3149.000000</td>\n",
       "      <td>0</td>\n",
       "      <td>-7.411899</td>\n",
       "    </tr>\n",
       "    <tr>\n",
       "      <th>21</th>\n",
       "      <td>37.490000</td>\n",
       "      <td>59.990000</td>\n",
       "      <td>0</td>\n",
       "      <td>28.734144</td>\n",
       "    </tr>\n",
       "    <tr>\n",
       "      <th>185</th>\n",
       "      <td>601.039388</td>\n",
       "      <td>999.038776</td>\n",
       "      <td>0</td>\n",
       "      <td>36.791468</td>\n",
       "    </tr>\n",
       "    <tr>\n",
       "      <th>22</th>\n",
       "      <td>1138.000000</td>\n",
       "      <td>3199.950000</td>\n",
       "      <td>0</td>\n",
       "      <td>109.189494</td>\n",
       "    </tr>\n",
       "    <tr>\n",
       "      <th>141</th>\n",
       "      <td>245.677273</td>\n",
       "      <td>1299.990000</td>\n",
       "      <td>0</td>\n",
       "      <td>75.963728</td>\n",
       "    </tr>\n",
       "    <tr>\n",
       "      <th>757</th>\n",
       "      <td>2809.000000</td>\n",
       "      <td>3149.000000</td>\n",
       "      <td>0</td>\n",
       "      <td>-7.411899</td>\n",
       "    </tr>\n",
       "    <tr>\n",
       "      <th>345</th>\n",
       "      <td>599.990000</td>\n",
       "      <td>599.990000</td>\n",
       "      <td>0</td>\n",
       "      <td>17.090166</td>\n",
       "    </tr>\n",
       "    <tr>\n",
       "      <th>78</th>\n",
       "      <td>604.156667</td>\n",
       "      <td>1299.000000</td>\n",
       "      <td>0</td>\n",
       "      <td>51.441792</td>\n",
       "    </tr>\n",
       "  </tbody>\n",
       "</table>\n",
       "</div>"
      ],
      "text/plain": [
       "           price  original_price  shipping  predicted_discount\n",
       "760   147.990000      199.990000         0           28.127492\n",
       "627  2519.000000     3406.990000         0           25.169445\n",
       "619  2519.000000     3406.990000         0           25.169445\n",
       "99    879.990000     1342.990000         0           34.790752\n",
       "526 -9038.429283    -7378.220799         0          279.769583\n",
       "3     809.375000     1999.928125         0           72.162947\n",
       "442   236.990000      238.990000         0           23.984045\n",
       "690  1499.000000     1899.000000         0           20.082214\n",
       "158   799.990000     1499.000000         0           47.982564\n",
       "367   649.990000      649.990000         0           16.154246\n",
       "28   1898.000000     3077.200000         0           51.223081\n",
       "776  1499.000000     1899.000000         0           20.082214\n",
       "734  2809.000000     3149.000000         0           -7.411899\n",
       "21     37.490000       59.990000         0           28.734144\n",
       "185   601.039388      999.038776         0           36.791468\n",
       "22   1138.000000     3199.950000         0          109.189494\n",
       "141   245.677273     1299.990000         0           75.963728\n",
       "757  2809.000000     3149.000000         0           -7.411899\n",
       "345   599.990000      599.990000         0           17.090166\n",
       "78    604.156667     1299.000000         0           51.441792"
      ]
     },
     "execution_count": 28,
     "metadata": {},
     "output_type": "execute_result"
    }
   ],
   "source": [
    "relevent_data[\"predicted_discount\"] = model.predict(relevent_data[['price', 'original_price', 'shipping']])\n",
    "relevent_data"
   ]
  }
 ],
 "metadata": {
  "kernelspec": {
   "display_name": "Python 3",
   "language": "python",
   "name": "python3"
  },
  "language_info": {
   "codemirror_mode": {
    "name": "ipython",
    "version": 3
   },
   "file_extension": ".py",
   "mimetype": "text/x-python",
   "name": "python",
   "nbconvert_exporter": "python",
   "pygments_lexer": "ipython3",
   "version": "3.11.5"
  }
 },
 "nbformat": 4,
 "nbformat_minor": 5
}
